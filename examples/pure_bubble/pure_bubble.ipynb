{
 "cells": [
  {
   "cell_type": "code",
   "execution_count": 15,
   "id": "47e4321e-0370-4952-8f46-adc31deef269",
   "metadata": {
    "tags": []
   },
   "outputs": [],
   "source": [
    "import numpy as np\n",
    "import os\n",
    "import subprocess\n",
    "import mplbm_utils as mplbm"
   ]
  },
  {
   "cell_type": "code",
   "execution_count": 16,
   "id": "31c48a2e-52e0-49e2-b095-96cab82c25ca",
   "metadata": {
    "tags": []
   },
   "outputs": [],
   "source": [
    "def create_flat_surface(inputs):\n",
    "\n",
    "    domain = np.zeros((100, 100, 100), dtype=np.uint8)  # empty space\n",
    "    # domain[0:5,:,:] = 1  # surface\n",
    "    # domain = np.transpose(domain, [1,0,2])\n",
    "    domain.tofile(f\"{inputs['input output']['input folder']}empty_box.raw\")\n",
    "    print(domain.shape)\n",
    "\n",
    "    print('Creating efficient geometry for Palabos...')\n",
    "    mplbm.create_geom_for_palabos(inputs)\n",
    "    # create_geom_for_palabos(inputs)\n",
    "\n",
    "    # import vedo as vd\n",
    "    # vp = vd.Plotter(axes=3, bg='w', bg2='w', size=(1200, 900), offscreen=False)\n",
    "    # domain = vd.Volume(domain).isosurface(0.5)\n",
    "    # vp += domain.c('gray')\n",
    "    # vp.show()\n",
    "\n",
    "    return"
   ]
  },
  {
   "cell_type": "code",
   "execution_count": 17,
   "id": "38f7f11c-e2e5-4226-a996-29f909c93f88",
   "metadata": {
    "tags": []
   },
   "outputs": [],
   "source": [
    "def run_2_phase_sim(inputs):\n",
    "    # Steps\n",
    "    # 1) create palabos input file\n",
    "    # 2) run 2-phase sim\n",
    "\n",
    "    if inputs['simulation type'] == '1-phase':\n",
    "        raise KeyError('Simulation type set to 1-phase...please change to 2-phase.')\n",
    "    sim_directory = inputs['input output']['simulation directory']\n",
    "\n",
    "    # 1) Create simulation input file\n",
    "    print('Creating input file...')\n",
    "    mplbm.create_palabos_input_file(inputs)\n",
    "\n",
    "    # 2) Run 2-phase simulation\n",
    "    print('Running 2-phase simulation...')\n",
    "    num_procs = inputs['simulation']['num procs']\n",
    "    input_dir = inputs['input output']['input folder']\n",
    "    simulation_command = f\"mpirun -np {num_procs} ../../src/2-phase_LBM/ShanChen {input_dir}2_phase_sim_input.xml  > {sim_directory}/{input_dir}running_script.out\"\n",
    "    file = open(f'{sim_directory}/{input_dir}run_shanchen_sim.sh', 'w')\n",
    "    file.write(f'{simulation_command}')\n",
    "    file.close()\n",
    "    \n",
    "    # print(f'bash {sim_directory}/{input_dir}run_shanchen_sim.sh > \"{sim_directory}/{input_dir}running_script.out\"')\n",
    "    # return\n",
    "\n",
    "    simulation_command_subproc = f'bash {sim_directory}/{input_dir}run_shanchen_sim.sh'\n",
    "    subprocess.run(simulation_command_subproc.split(' '))\n",
    "\n",
    "    return"
   ]
  },
  {
   "cell_type": "markdown",
   "id": "45e9bc18-6330-4e28-99c6-e6067dd57056",
   "metadata": {
    "tags": []
   },
   "source": [
    "# Main part"
   ]
  },
  {
   "cell_type": "code",
   "execution_count": 37,
   "id": "d6537aee-52cb-43ef-8c97-229d8f09a8af",
   "metadata": {
    "tags": []
   },
   "outputs": [
    {
     "name": "stdout",
     "output_type": "stream",
     "text": [
      "Simulation Type: 2-phase\n",
      "Simulation Directory: /mnt/data2/windowkim/hyundai/lbm/MPLBM-UT/examples/pure_bubble\n",
      "Input Folder: input/\n",
      "Output Folder: tmp/\n",
      "Geometry File: empty_box.raw\n",
      "Geometry Data Type: int8\n",
      "Geometry Size: Nx=100, Ny=100, Nz=100\n",
      "Geometry Name: empty_box\n",
      "Domain Size: nx=100, ny=100, nz=100\n",
      "Restart Simulation: False\n",
      "Fluid 1 Equilibrium Density: 2\n",
      "Fluid 2 Equilibrium Density: 2\n",
      "Fluid 1 Force: 0\n",
      "Fluid 2 Force: 0\n",
      "Using Pressure Boundary Conditions: False\n",
      "Initial fluid configuration setup with custom settings.\n",
      "Save simulation state: False\n",
      "Saving density vtks every 100 iterations.\n",
      "Saving density fluid 1 and fluid 2 vtks: True\n",
      "(100, 100, 100)\n",
      "Creating efficient geometry for Palabos...\n",
      "\n",
      "\n",
      "Running droplet test with G_ww = -0.3... G_ow = 0.1...\n",
      "Creating input file...\n",
      "Running 2-phase simulation...\n"
     ]
    },
    {
     "name": "stderr",
     "output_type": "stream",
     "text": [
      "Authorization required, but no authorization protocol specified\n",
      "Authorization required, but no authorization protocol specified\n"
     ]
    },
    {
     "ename": "KeyboardInterrupt",
     "evalue": "",
     "output_type": "error",
     "traceback": [
      "\u001b[0;31m---------------------------------------------------------------------------\u001b[0m",
      "\u001b[0;31mKeyboardInterrupt\u001b[0m                         Traceback (most recent call last)",
      "\u001b[0;32m/tmp/ipykernel_2420302/3529879822.py\u001b[0m in \u001b[0;36m<module>\u001b[0;34m\u001b[0m\n\u001b[1;32m     35\u001b[0m         \u001b[0mcreate_flat_surface\u001b[0m\u001b[0;34m(\u001b[0m\u001b[0minputs\u001b[0m\u001b[0;34m)\u001b[0m\u001b[0;34m\u001b[0m\u001b[0;34m\u001b[0m\u001b[0m\n\u001b[1;32m     36\u001b[0m         \u001b[0mprint\u001b[0m\u001b[0;34m(\u001b[0m\u001b[0;34mf\"\\n\\nRunning droplet test with G_ww = {G_ww[i]}... G_ow = {G_ow[j]}...\"\u001b[0m\u001b[0;34m)\u001b[0m\u001b[0;34m\u001b[0m\u001b[0;34m\u001b[0m\u001b[0m\n\u001b[0;32m---> 37\u001b[0;31m         \u001b[0mrun_2_phase_sim\u001b[0m\u001b[0;34m(\u001b[0m\u001b[0minputs\u001b[0m\u001b[0;34m)\u001b[0m  \u001b[0;31m# Run 2 phase sim\u001b[0m\u001b[0;34m\u001b[0m\u001b[0;34m\u001b[0m\u001b[0m\n\u001b[0m\u001b[1;32m     38\u001b[0m         \u001b[0mprint\u001b[0m\u001b[0;34m(\u001b[0m\u001b[0;34m\"\\n\\nrun_2_phase_sim DONE!!!!\"\u001b[0m\u001b[0;34m)\u001b[0m\u001b[0;34m\u001b[0m\u001b[0;34m\u001b[0m\u001b[0m\n",
      "\u001b[0;32m/tmp/ipykernel_2420302/4053953784.py\u001b[0m in \u001b[0;36mrun_2_phase_sim\u001b[0;34m(inputs)\u001b[0m\n\u001b[1;32m     25\u001b[0m \u001b[0;34m\u001b[0m\u001b[0m\n\u001b[1;32m     26\u001b[0m     \u001b[0msimulation_command_subproc\u001b[0m \u001b[0;34m=\u001b[0m \u001b[0;34mf'bash {sim_directory}/{input_dir}run_shanchen_sim.sh'\u001b[0m\u001b[0;34m\u001b[0m\u001b[0;34m\u001b[0m\u001b[0m\n\u001b[0;32m---> 27\u001b[0;31m     \u001b[0msubprocess\u001b[0m\u001b[0;34m.\u001b[0m\u001b[0mrun\u001b[0m\u001b[0;34m(\u001b[0m\u001b[0msimulation_command_subproc\u001b[0m\u001b[0;34m.\u001b[0m\u001b[0msplit\u001b[0m\u001b[0;34m(\u001b[0m\u001b[0;34m' '\u001b[0m\u001b[0;34m)\u001b[0m\u001b[0;34m)\u001b[0m\u001b[0;34m\u001b[0m\u001b[0;34m\u001b[0m\u001b[0m\n\u001b[0m\u001b[1;32m     28\u001b[0m \u001b[0;34m\u001b[0m\u001b[0m\n\u001b[1;32m     29\u001b[0m     \u001b[0;32mreturn\u001b[0m\u001b[0;34m\u001b[0m\u001b[0;34m\u001b[0m\u001b[0m\n",
      "\u001b[0;32m~/miniconda3/envs/lbm/lib/python3.7/subprocess.py\u001b[0m in \u001b[0;36mrun\u001b[0;34m(input, capture_output, timeout, check, *popenargs, **kwargs)\u001b[0m\n\u001b[1;32m    488\u001b[0m     \u001b[0;32mwith\u001b[0m \u001b[0mPopen\u001b[0m\u001b[0;34m(\u001b[0m\u001b[0;34m*\u001b[0m\u001b[0mpopenargs\u001b[0m\u001b[0;34m,\u001b[0m \u001b[0;34m**\u001b[0m\u001b[0mkwargs\u001b[0m\u001b[0;34m)\u001b[0m \u001b[0;32mas\u001b[0m \u001b[0mprocess\u001b[0m\u001b[0;34m:\u001b[0m\u001b[0;34m\u001b[0m\u001b[0;34m\u001b[0m\u001b[0m\n\u001b[1;32m    489\u001b[0m         \u001b[0;32mtry\u001b[0m\u001b[0;34m:\u001b[0m\u001b[0;34m\u001b[0m\u001b[0;34m\u001b[0m\u001b[0m\n\u001b[0;32m--> 490\u001b[0;31m             \u001b[0mstdout\u001b[0m\u001b[0;34m,\u001b[0m \u001b[0mstderr\u001b[0m \u001b[0;34m=\u001b[0m \u001b[0mprocess\u001b[0m\u001b[0;34m.\u001b[0m\u001b[0mcommunicate\u001b[0m\u001b[0;34m(\u001b[0m\u001b[0minput\u001b[0m\u001b[0;34m,\u001b[0m \u001b[0mtimeout\u001b[0m\u001b[0;34m=\u001b[0m\u001b[0mtimeout\u001b[0m\u001b[0;34m)\u001b[0m\u001b[0;34m\u001b[0m\u001b[0;34m\u001b[0m\u001b[0m\n\u001b[0m\u001b[1;32m    491\u001b[0m         \u001b[0;32mexcept\u001b[0m \u001b[0mTimeoutExpired\u001b[0m \u001b[0;32mas\u001b[0m \u001b[0mexc\u001b[0m\u001b[0;34m:\u001b[0m\u001b[0;34m\u001b[0m\u001b[0;34m\u001b[0m\u001b[0m\n\u001b[1;32m    492\u001b[0m             \u001b[0mprocess\u001b[0m\u001b[0;34m.\u001b[0m\u001b[0mkill\u001b[0m\u001b[0;34m(\u001b[0m\u001b[0;34m)\u001b[0m\u001b[0;34m\u001b[0m\u001b[0;34m\u001b[0m\u001b[0m\n",
      "\u001b[0;32m~/miniconda3/envs/lbm/lib/python3.7/subprocess.py\u001b[0m in \u001b[0;36mcommunicate\u001b[0;34m(self, input, timeout)\u001b[0m\n\u001b[1;32m    954\u001b[0m                 \u001b[0mstderr\u001b[0m \u001b[0;34m=\u001b[0m \u001b[0mself\u001b[0m\u001b[0;34m.\u001b[0m\u001b[0mstderr\u001b[0m\u001b[0;34m.\u001b[0m\u001b[0mread\u001b[0m\u001b[0;34m(\u001b[0m\u001b[0;34m)\u001b[0m\u001b[0;34m\u001b[0m\u001b[0;34m\u001b[0m\u001b[0m\n\u001b[1;32m    955\u001b[0m                 \u001b[0mself\u001b[0m\u001b[0;34m.\u001b[0m\u001b[0mstderr\u001b[0m\u001b[0;34m.\u001b[0m\u001b[0mclose\u001b[0m\u001b[0;34m(\u001b[0m\u001b[0;34m)\u001b[0m\u001b[0;34m\u001b[0m\u001b[0;34m\u001b[0m\u001b[0m\n\u001b[0;32m--> 956\u001b[0;31m             \u001b[0mself\u001b[0m\u001b[0;34m.\u001b[0m\u001b[0mwait\u001b[0m\u001b[0;34m(\u001b[0m\u001b[0;34m)\u001b[0m\u001b[0;34m\u001b[0m\u001b[0;34m\u001b[0m\u001b[0m\n\u001b[0m\u001b[1;32m    957\u001b[0m         \u001b[0;32melse\u001b[0m\u001b[0;34m:\u001b[0m\u001b[0;34m\u001b[0m\u001b[0;34m\u001b[0m\u001b[0m\n\u001b[1;32m    958\u001b[0m             \u001b[0;32mif\u001b[0m \u001b[0mtimeout\u001b[0m \u001b[0;32mis\u001b[0m \u001b[0;32mnot\u001b[0m \u001b[0;32mNone\u001b[0m\u001b[0;34m:\u001b[0m\u001b[0;34m\u001b[0m\u001b[0;34m\u001b[0m\u001b[0m\n",
      "\u001b[0;32m~/miniconda3/envs/lbm/lib/python3.7/subprocess.py\u001b[0m in \u001b[0;36mwait\u001b[0;34m(self, timeout)\u001b[0m\n\u001b[1;32m   1017\u001b[0m             \u001b[0mendtime\u001b[0m \u001b[0;34m=\u001b[0m \u001b[0m_time\u001b[0m\u001b[0;34m(\u001b[0m\u001b[0;34m)\u001b[0m \u001b[0;34m+\u001b[0m \u001b[0mtimeout\u001b[0m\u001b[0;34m\u001b[0m\u001b[0;34m\u001b[0m\u001b[0m\n\u001b[1;32m   1018\u001b[0m         \u001b[0;32mtry\u001b[0m\u001b[0;34m:\u001b[0m\u001b[0;34m\u001b[0m\u001b[0;34m\u001b[0m\u001b[0m\n\u001b[0;32m-> 1019\u001b[0;31m             \u001b[0;32mreturn\u001b[0m \u001b[0mself\u001b[0m\u001b[0;34m.\u001b[0m\u001b[0m_wait\u001b[0m\u001b[0;34m(\u001b[0m\u001b[0mtimeout\u001b[0m\u001b[0;34m=\u001b[0m\u001b[0mtimeout\u001b[0m\u001b[0;34m)\u001b[0m\u001b[0;34m\u001b[0m\u001b[0;34m\u001b[0m\u001b[0m\n\u001b[0m\u001b[1;32m   1020\u001b[0m         \u001b[0;32mexcept\u001b[0m \u001b[0mKeyboardInterrupt\u001b[0m\u001b[0;34m:\u001b[0m\u001b[0;34m\u001b[0m\u001b[0;34m\u001b[0m\u001b[0m\n\u001b[1;32m   1021\u001b[0m             \u001b[0;31m# https://bugs.python.org/issue25942\u001b[0m\u001b[0;34m\u001b[0m\u001b[0;34m\u001b[0m\u001b[0;34m\u001b[0m\u001b[0m\n",
      "\u001b[0;32m~/miniconda3/envs/lbm/lib/python3.7/subprocess.py\u001b[0m in \u001b[0;36m_wait\u001b[0;34m(self, timeout)\u001b[0m\n\u001b[1;32m   1651\u001b[0m                         \u001b[0;32mif\u001b[0m \u001b[0mself\u001b[0m\u001b[0;34m.\u001b[0m\u001b[0mreturncode\u001b[0m \u001b[0;32mis\u001b[0m \u001b[0;32mnot\u001b[0m \u001b[0;32mNone\u001b[0m\u001b[0;34m:\u001b[0m\u001b[0;34m\u001b[0m\u001b[0;34m\u001b[0m\u001b[0m\n\u001b[1;32m   1652\u001b[0m                             \u001b[0;32mbreak\u001b[0m  \u001b[0;31m# Another thread waited.\u001b[0m\u001b[0;34m\u001b[0m\u001b[0;34m\u001b[0m\u001b[0m\n\u001b[0;32m-> 1653\u001b[0;31m                         \u001b[0;34m(\u001b[0m\u001b[0mpid\u001b[0m\u001b[0;34m,\u001b[0m \u001b[0msts\u001b[0m\u001b[0;34m)\u001b[0m \u001b[0;34m=\u001b[0m \u001b[0mself\u001b[0m\u001b[0;34m.\u001b[0m\u001b[0m_try_wait\u001b[0m\u001b[0;34m(\u001b[0m\u001b[0;36m0\u001b[0m\u001b[0;34m)\u001b[0m\u001b[0;34m\u001b[0m\u001b[0;34m\u001b[0m\u001b[0m\n\u001b[0m\u001b[1;32m   1654\u001b[0m                         \u001b[0;31m# Check the pid and loop as waitpid has been known to\u001b[0m\u001b[0;34m\u001b[0m\u001b[0;34m\u001b[0m\u001b[0;34m\u001b[0m\u001b[0m\n\u001b[1;32m   1655\u001b[0m                         \u001b[0;31m# return 0 even without WNOHANG in odd situations.\u001b[0m\u001b[0;34m\u001b[0m\u001b[0;34m\u001b[0m\u001b[0;34m\u001b[0m\u001b[0m\n",
      "\u001b[0;32m~/miniconda3/envs/lbm/lib/python3.7/subprocess.py\u001b[0m in \u001b[0;36m_try_wait\u001b[0;34m(self, wait_flags)\u001b[0m\n\u001b[1;32m   1609\u001b[0m             \u001b[0;34m\"\"\"All callers to this function MUST hold self._waitpid_lock.\"\"\"\u001b[0m\u001b[0;34m\u001b[0m\u001b[0;34m\u001b[0m\u001b[0m\n\u001b[1;32m   1610\u001b[0m             \u001b[0;32mtry\u001b[0m\u001b[0;34m:\u001b[0m\u001b[0;34m\u001b[0m\u001b[0;34m\u001b[0m\u001b[0m\n\u001b[0;32m-> 1611\u001b[0;31m                 \u001b[0;34m(\u001b[0m\u001b[0mpid\u001b[0m\u001b[0;34m,\u001b[0m \u001b[0msts\u001b[0m\u001b[0;34m)\u001b[0m \u001b[0;34m=\u001b[0m \u001b[0mos\u001b[0m\u001b[0;34m.\u001b[0m\u001b[0mwaitpid\u001b[0m\u001b[0;34m(\u001b[0m\u001b[0mself\u001b[0m\u001b[0;34m.\u001b[0m\u001b[0mpid\u001b[0m\u001b[0;34m,\u001b[0m \u001b[0mwait_flags\u001b[0m\u001b[0;34m)\u001b[0m\u001b[0;34m\u001b[0m\u001b[0;34m\u001b[0m\u001b[0m\n\u001b[0m\u001b[1;32m   1612\u001b[0m             \u001b[0;32mexcept\u001b[0m \u001b[0mChildProcessError\u001b[0m\u001b[0;34m:\u001b[0m\u001b[0;34m\u001b[0m\u001b[0;34m\u001b[0m\u001b[0m\n\u001b[1;32m   1613\u001b[0m                 \u001b[0;31m# This happens if SIGCLD is set to be ignored or waiting\u001b[0m\u001b[0;34m\u001b[0m\u001b[0;34m\u001b[0m\u001b[0;34m\u001b[0m\u001b[0m\n",
      "\u001b[0;31mKeyboardInterrupt\u001b[0m: "
     ]
    }
   ],
   "source": [
    "input_file = 'input.yml'\n",
    "inputs = mplbm.parse_input_file(input_file)  # Parse inputs\n",
    "inputs['input output']['simulation directory'] = os.getcwd()  # Store current working directory\n",
    "\n",
    "\n",
    "\n",
    "G_ww = np.array([inputs['simulation']['fluid data']['G_ww']])  # G_ads_f1_s1 values corresponding to 156 deg, 90 deg, and 24 deg contact angles\n",
    "G_ow = np.array([inputs['simulation']['fluid data']['G_ow']])\n",
    "\n",
    "\n",
    "input_folders = []\n",
    "output_folders = []\n",
    "\n",
    "for i in range(len(G_ww)):\n",
    "    for j in range(len(G_ow)):\n",
    "        input_folders.append(f'input_Gww_{G_ww[i]}_Gow_{G_ow[j]}/')\n",
    "        output_folders.append(f'tmp_Gww_{G_ww[i]}_Gow_{G_ow[j]}/')\n",
    "# input_folders = ['Gc_0.4/', 'Gc_0.8/', 'Gc_1.5/']\n",
    "# tmp_folders = ['tmp_0.4/', 'tmp_0.8/', 'tmp_1.5/']\n",
    "\n",
    "# tmp_folders = ['tmp_m0.4/', 'tmp_0/', 'tmp_p0.4/']\n",
    "\n",
    "for i in range(len(G_ww)):\n",
    "    for j in range(len(G_ow)):\n",
    "        if not os.path.exists(input_folders[i * j + j]):\n",
    "            os.makedirs(input_folders[i * j + j])\n",
    "\n",
    "        if not os.path.exists(output_folders[i * j + j]):\n",
    "            os.makedirs(output_folders[i * j + j])\n",
    "\n",
    "        inputs['input output']['input folder'] = input_folders[i * j + j]\n",
    "        inputs['input output']['output folder'] = output_folders[i * j + j]\n",
    "        # inputs['simulation']['fluid data']['G_ww'] = G_ww[i]\n",
    "        # inputs['simulation']['fluid data']['G_ow'] = G_ow[j]\n",
    "        create_flat_surface(inputs)\n",
    "        print(f\"\\n\\nRunning droplet test with G_ww = {G_ww[i]}... G_ow = {G_ow[j]}...\")\n",
    "        run_2_phase_sim(inputs)  # Run 2 phase sim\n",
    "        print(\"\\n\\nrun_2_phase_sim DONE!!!!\")"
   ]
  },
  {
   "cell_type": "code",
   "execution_count": 5,
   "id": "9aa4087f-01eb-4702-9280-bee7ed05cd2e",
   "metadata": {
    "tags": []
   },
   "outputs": [
    {
     "data": {
      "text/plain": [
       "'/mnt/data2/windowkim/hyundai/lbm/MPLBM-UT/examples/pure_bubble'"
      ]
     },
     "execution_count": 5,
     "metadata": {},
     "output_type": "execute_result"
    }
   ],
   "source": [
    "os.getcwd()"
   ]
  },
  {
   "cell_type": "code",
   "execution_count": null,
   "id": "c29e5a0e-a61e-4ecd-bdc8-3d55af475d13",
   "metadata": {},
   "outputs": [],
   "source": []
  }
 ],
 "metadata": {
  "kernelspec": {
   "display_name": "lbm",
   "language": "python",
   "name": "lbm"
  },
  "language_info": {
   "codemirror_mode": {
    "name": "ipython",
    "version": 3
   },
   "file_extension": ".py",
   "mimetype": "text/x-python",
   "name": "python",
   "nbconvert_exporter": "python",
   "pygments_lexer": "ipython3",
   "version": "3.7.12"
  }
 },
 "nbformat": 4,
 "nbformat_minor": 5
}
